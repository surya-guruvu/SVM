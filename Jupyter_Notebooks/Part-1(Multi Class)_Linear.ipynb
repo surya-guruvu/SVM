{
 "cells": [
  {
   "cell_type": "markdown",
   "id": "7d073ddf",
   "metadata": {},
   "source": [
    "# Linear Multi-class Classification using SVM using all feature vectors"
   ]
  },
  {
   "cell_type": "code",
   "execution_count": 3,
   "id": "37e182fd",
   "metadata": {},
   "outputs": [],
   "source": [
    "from libsvm.svmutil import *\n",
    "import numpy as np\n",
    "import pandas as pd\n",
    "import math\n",
    "import matplotlib\n",
    "import matplotlib.pyplot as plt\n",
    "import cvxopt\n",
    "from cvxopt import matrix,solvers"
   ]
  },
  {
   "cell_type": "code",
   "execution_count": 6,
   "id": "ece9bda9",
   "metadata": {},
   "outputs": [],
   "source": [
    "df = pd.read_csv('C:/Users/surya/Downloads/2019EE10481/2019EE10481.csv',header = None,prefix='Column') "
   ]
  },
  {
   "cell_type": "code",
   "execution_count": 7,
   "id": "ae182df5",
   "metadata": {},
   "outputs": [],
   "source": [
    "df1=df.Column25\n",
    "label=np.array(df1)\n",
    "label_train=label[0:2000]\n",
    "label_test=label[2000:3000]\n"
   ]
  },
  {
   "cell_type": "code",
   "execution_count": 8,
   "id": "34bec28b",
   "metadata": {},
   "outputs": [],
   "source": [
    "df=df.iloc[:,0:25:1]\n",
    "data = df.values #To convert data frame into numpy array\n",
    "train_data=data[0:2000]\n",
    "test_data=data[2000:3000]\n"
   ]
  },
  {
   "cell_type": "code",
   "execution_count": 9,
   "id": "4fe88d18",
   "metadata": {},
   "outputs": [
    {
     "name": "stdout",
     "output_type": "stream",
     "text": [
      "Accuracy = 10.75% (215/2000) (classification)\n",
      "Accuracy = 10.75% (215/2000) (classification)\n",
      "Accuracy = 10.75% (215/2000) (classification)\n",
      "Accuracy = 10.75% (215/2000) (classification)\n",
      "Accuracy = 10.75% (215/2000) (classification)\n",
      "Accuracy = 10.75% (215/2000) (classification)\n",
      "Accuracy = 10.75% (215/2000) (classification)\n",
      "Accuracy = 14.6% (292/2000) (classification)\n",
      "Accuracy = 57.8% (1156/2000) (classification)\n",
      "Accuracy = 72.25% (1445/2000) (classification)\n",
      "Accuracy = 81.9% (1638/2000) (classification)\n",
      "Accuracy = 84.8% (1696/2000) (classification)\n",
      "Accuracy = 86.65% (1733/2000) (classification)\n",
      "Accuracy = 87.8% (1756/2000) (classification)\n",
      "Accuracy = 89.3% (1786/2000) (classification)\n",
      "Accuracy = 90.45% (1809/2000) (classification)\n",
      "Accuracy = 91.3% (1826/2000) (classification)\n",
      "Accuracy = 92.4% (1848/2000) (classification)\n",
      "Accuracy = 93.3% (1866/2000) (classification)\n",
      "Accuracy = 94% (1880/2000) (classification)\n",
      "Accuracy = 94.4% (1888/2000) (classification)\n",
      "Accuracy = 95.15% (1903/2000) (classification)\n",
      "Accuracy = 95.35% (1907/2000) (classification)\n",
      "Accuracy = 95.8% (1916/2000) (classification)\n",
      "Accuracy = 96.2% (1924/2000) (classification)\n",
      "Accuracy = 96.25% (1925/2000) (classification)\n",
      "Accuracy = 96.25% (1925/2000) (classification)\n",
      "Accuracy = 96.3% (1926/2000) (classification)\n",
      "Accuracy = 96.3% (1926/2000) (classification)\n",
      "Accuracy = 96.35% (1927/2000) (classification)\n",
      "Accuracy = 96.45% (1929/2000) (classification)\n",
      "Accuracy = 96.6% (1932/2000) (classification)\n",
      "Accuracy = 96.5% (1930/2000) (classification)\n",
      "Accuracy = 96.6% (1932/2000) (classification)\n",
      "Accuracy = 96.6% (1932/2000) (classification)\n",
      "Accuracy = 10% (100/1000) (classification)\n",
      "Accuracy = 10% (100/1000) (classification)\n",
      "Accuracy = 10% (100/1000) (classification)\n",
      "Accuracy = 10% (100/1000) (classification)\n",
      "Accuracy = 10% (100/1000) (classification)\n",
      "Accuracy = 10% (100/1000) (classification)\n",
      "Accuracy = 10% (100/1000) (classification)\n",
      "Accuracy = 14.4% (144/1000) (classification)\n",
      "Accuracy = 59.1% (591/1000) (classification)\n",
      "Accuracy = 73.9% (739/1000) (classification)\n",
      "Accuracy = 83.4% (834/1000) (classification)\n",
      "Accuracy = 85.4% (854/1000) (classification)\n",
      "Accuracy = 86.9% (869/1000) (classification)\n",
      "Accuracy = 87% (870/1000) (classification)\n",
      "Accuracy = 87.3% (873/1000) (classification)\n",
      "Accuracy = 88.6% (886/1000) (classification)\n",
      "Accuracy = 87.6% (876/1000) (classification)\n",
      "Accuracy = 87.4% (874/1000) (classification)\n",
      "Accuracy = 87.4% (874/1000) (classification)\n",
      "Accuracy = 86.7% (867/1000) (classification)\n",
      "Accuracy = 86.5% (865/1000) (classification)\n",
      "Accuracy = 85.8% (858/1000) (classification)\n",
      "Accuracy = 85.4% (854/1000) (classification)\n",
      "Accuracy = 85.2% (852/1000) (classification)\n",
      "Accuracy = 85.1% (851/1000) (classification)\n",
      "Accuracy = 85% (850/1000) (classification)\n",
      "Accuracy = 84.9% (849/1000) (classification)\n",
      "Accuracy = 84.6% (846/1000) (classification)\n",
      "Accuracy = 84.3% (843/1000) (classification)\n",
      "Accuracy = 84.3% (843/1000) (classification)\n",
      "Accuracy = 84.2% (842/1000) (classification)\n",
      "Accuracy = 84% (840/1000) (classification)\n",
      "Accuracy = 84.2% (842/1000) (classification)\n",
      "Accuracy = 84.6% (846/1000) (classification)\n",
      "Accuracy = 84.4% (844/1000) (classification)\n"
     ]
    },
    {
     "data": {
      "image/png": "[encoded data removed]",
      "text/plain": [
       "<Figure size 432x288 with 1 Axes>"
      ]
     },
     "metadata": {
      "needs_background": "light"
     },
     "output_type": "display_data"
    },
    {
     "name": "stdout",
     "output_type": "stream",
     "text": [
      "Value of coarse log2(c), for maximum accuracy: -5\n"
     ]
    }
   ],
   "source": [
    "prob = svm_problem(label_train, train_data)\n",
    "c0=[]\n",
    "Accuracy0=[]\n",
    "max0=0\n",
    "c=[]\n",
    "Accuracy=[]\n",
    "max=0\n",
    "j=0\n",
    "j0=0\n",
    "for i in range(-20,15):\n",
    "    c0.append(i)\n",
    "    param = svm_parameter('-t 0 -c {} -b 0'.format(2**i))\n",
    "    m = svm_train(prob, param)\n",
    "    p_label, p_acc, p_val = svm_predict(label_train, train_data, m) \n",
    "    Accuracy0.append(p_acc[0])\n",
    "\n",
    "    if(max0<p_acc[0]):\n",
    "        max0=p_acc[0]\n",
    "        j0=i\n",
    "for i in range(-20,15):\n",
    "    c.append(i)\n",
    "    param = svm_parameter('-t 0 -c {} -b 0'.format(2**i))\n",
    "    m = svm_train(prob, param)\n",
    "    p_label, p_acc, p_val = svm_predict(label_test, test_data, m) \n",
    "    Accuracy.append(p_acc[0])\n",
    "\n",
    "    if(max<p_acc[0]):\n",
    "        max=p_acc[0]\n",
    "        j=i\n",
    "\n",
    "plt.plot(c0,Accuracy0)\n",
    "plt.plot(c,Accuracy)\n",
    "plt.show()\n",
    "print('Value of coarse log2(c), for maximum accuracy: {}'.format(j))"
   ]
  },
  {
   "cell_type": "code",
   "execution_count": 11,
   "id": "2ebbfbc3",
   "metadata": {},
   "outputs": [
    {
     "name": "stdout",
     "output_type": "stream",
     "text": [
      "Accuracy = 87.3% (873/1000) (classification)\n",
      "Accuracy = 87.4% (874/1000) (classification)\n",
      "Accuracy = 87.5% (875/1000) (classification)\n",
      "Accuracy = 87.8% (878/1000) (classification)\n",
      "Accuracy = 87.8% (878/1000) (classification)\n",
      "Accuracy = 88% (880/1000) (classification)\n",
      "Accuracy = 87.9% (879/1000) (classification)\n",
      "Accuracy = 88% (880/1000) (classification)\n",
      "Accuracy = 88.2% (882/1000) (classification)\n",
      "Accuracy = 88.1% (881/1000) (classification)\n",
      "Accuracy = 88.6% (886/1000) (classification)\n",
      "Accuracy = 88.7% (887/1000) (classification)\n",
      "Accuracy = 88.2% (882/1000) (classification)\n",
      "Accuracy = 88.2% (882/1000) (classification)\n",
      "Accuracy = 88% (880/1000) (classification)\n",
      "Accuracy = 87.9% (879/1000) (classification)\n",
      "Accuracy = 87.6% (876/1000) (classification)\n",
      "Accuracy = 87.4% (874/1000) (classification)\n",
      "Accuracy = 87.5% (875/1000) (classification)\n",
      "Accuracy = 87.6% (876/1000) (classification)\n",
      "Accuracy = 87.6% (876/1000) (classification)\n"
     ]
    },
    {
     "data": {
      "image/png": "[encoded data removed]",
      "text/plain": [
       "<Figure size 432x288 with 1 Axes>"
      ]
     },
     "metadata": {
      "needs_background": "light"
     },
     "output_type": "display_data"
    },
    {
     "name": "stdout",
     "output_type": "stream",
     "text": [
      "Value of fine log2(c), for maximum accuracy: -4.900000000000004\n",
      "Percentage of Samples for which output is predicted correctly: 88.7\n"
     ]
    }
   ],
   "source": [
    "prob = svm_problem(label_train, train_data)\n",
    "c=[]\n",
    "Accuracy=[]\n",
    "max=0\n",
    "j=0\n",
    "i=-6\n",
    "while(i<-4):\n",
    "    c.append(i)\n",
    "    param = svm_parameter('-t 0 -c {} -b 0'.format(2**i))\n",
    "    m = svm_train(prob, param)\n",
    "    p_label, p_acc, p_val = svm_predict(label_test, test_data, m) \n",
    "    Accuracy.append(p_acc[0])\n",
    "\n",
    "    if(max<p_acc[0]):\n",
    "        max=p_acc[0]\n",
    "        j=i\n",
    "\n",
    "    i+=0.1\n",
    "plt.plot(c,Accuracy)\n",
    "plt.show()\n",
    "print('Value of fine log2(c), for maximum accuracy: {}'.format(j))\n",
    "print('Percentage of Samples for which output is predicted correctly: {}'.format(max))"
   ]
  },
  {
   "cell_type": "code",
   "execution_count": null,
   "id": "a3499479",
   "metadata": {},
   "outputs": [],
   "source": []
  }
 ],
 "metadata": {
  "kernelspec": {
   "display_name": "Python 3 (ipykernel)",
   "language": "python",
   "name": "python3"
  },
  "language_info": {
   "codemirror_mode": {
    "name": "ipython",
    "version": 3
   },
   "file_extension": ".py",
   "mimetype": "text/x-python",
   "name": "python",
   "nbconvert_exporter": "python",
   "pygments_lexer": "ipython3",
   "version": "3.9.7"
  }
 },
 "nbformat": 4,
 "nbformat_minor": 5
}
