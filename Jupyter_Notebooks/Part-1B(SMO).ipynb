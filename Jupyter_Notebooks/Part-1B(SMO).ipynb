{
 "cells": [
  {
   "cell_type": "code",
   "execution_count": 1,
   "id": "f73e06d7",
   "metadata": {},
   "outputs": [],
   "source": [
    "from libsvm.svmutil import *\n",
    "import numpy as np\n",
    "import pandas as pd\n",
    "import matplotlib\n",
    "import matplotlib.pyplot as plt\n",
    "import cvxopt\n",
    "from cvxopt import matrix,solvers\n",
    "import random\n",
    "import time"
   ]
  },
  {
   "cell_type": "code",
   "execution_count": 2,
   "id": "2f9876e3",
   "metadata": {},
   "outputs": [],
   "source": [
    "#C: regularization parameter\n",
    "#tol: numerical tolerance\n",
    "#max passes: max # of times to iterate over α’s without changing\n"
   ]
  },
  {
   "cell_type": "code",
   "execution_count": 3,
   "id": "a27b240c",
   "metadata": {},
   "outputs": [],
   "source": [
    "def lin_ker(Xi,Xj):\n",
    "    return np.dot(Xi,Xj)"
   ]
  },
  {
   "cell_type": "code",
   "execution_count": 4,
   "id": "9c42e6e9",
   "metadata": {},
   "outputs": [],
   "source": [
    "def lin_class(lam, x, X, Y, b):\n",
    "    sum=0\n",
    "    for i in range(len(Y)):\n",
    "        sum+=lam[i] * Y[i] * (np.dot(X[i], x))\n",
    "    sum+=b\n",
    "    return sum"
   ]
  },
  {
   "cell_type": "code",
   "execution_count": 5,
   "id": "b0dd1da9",
   "metadata": {},
   "outputs": [],
   "source": [
    "def findL(Yi,Yj,lami,lamj,C):\n",
    "    if Yi!= Yj:\n",
    "        return max(0, lamj - lami)\n",
    "    else:\n",
    "        return max(0, lami + lamj - C)"
   ]
  },
  {
   "cell_type": "code",
   "execution_count": 6,
   "id": "0dc15b68",
   "metadata": {},
   "outputs": [],
   "source": [
    "def findH(Yi,Yj,lami,lamj,C):\n",
    "    if(Yi==Yj):\n",
    "        return min(C,lami+lamj)\n",
    "    else:\n",
    "        return min(C,C-lami+lamj)"
   ]
  },
  {
   "cell_type": "code",
   "execution_count": 7,
   "id": "88660941",
   "metadata": {},
   "outputs": [],
   "source": [
    "def neta(Xi,Xj):\n",
    "    return 2 * (np.inner(Xi, Xj)) - np.inner(Xi, Xi) - np.inner(Xj, Xj)"
   ]
  },
  {
   "cell_type": "code",
   "execution_count": 8,
   "id": "09bc600e",
   "metadata": {},
   "outputs": [],
   "source": [
    "def lin_error(Xi, Yi, lam, X,Y,b):\n",
    "    fxi = lin_class(lam, Xi, X, Y, b)\n",
    "    Ei = fxi - Yi\n",
    "    \n",
    "    return Ei\n"
   ]
  },
  {
   "cell_type": "code",
   "execution_count": 9,
   "id": "5c0081a2",
   "metadata": {},
   "outputs": [],
   "source": [
    "def compute_lamj(Yj,lamj, Ei, Ej, neta):\n",
    "    return lamj - ((Yj * (Ei - Ej)) / neta)"
   ]
  },
  {
   "cell_type": "code",
   "execution_count": 10,
   "id": "39e8e8f4",
   "metadata": {},
   "outputs": [],
   "source": [
    "def clip_lamj(lamj,L,H):\n",
    "    if(lamj>H):\n",
    "        return H\n",
    "    elif(lamj<L):\n",
    "        return L\n",
    "    else:\n",
    "        \n",
    "        return lamj\n",
    "    "
   ]
  },
  {
   "cell_type": "code",
   "execution_count": 11,
   "id": "92db7356",
   "metadata": {},
   "outputs": [],
   "source": [
    "def compute_lami(lami, Yi, Yj, lamj_old, lamj):\n",
    "    return lami + (Yi * Yj) * (lamj_old - lamj)"
   ]
  },
  {
   "cell_type": "code",
   "execution_count": 12,
   "id": "83fd615a",
   "metadata": {},
   "outputs": [],
   "source": [
    "def findbs(b, Xi, Yi, lami, lamj, Ei, Ej, Xj, Yj, lami_old, lamj_old):\n",
    "    b1 = (b - Ei)-(Yi*(lami - lami_old) * np.inner(Xi, Xi)) - (Yj * (lamj - lamj_old) * np.inner(Xi, Xj)) \n",
    "    b2 = (b - Ej)-(Yi*(lami - lami_old) * np.inner(Xi, Xj)) - (Yj * (lamj - lamj_old) * np.inner(Xj, Xj)) \n",
    "\n",
    "    return b1, b2\n",
    "\n",
    "def compute_b(b1, b2, lami, lamj, C):\n",
    "    if lami > 0 and lami < C:\n",
    "        return b1\n",
    "    elif lamj > 0 and lamj < C:\n",
    "        return b2\n",
    "    else:\n",
    "        return (b1 + b2) / 2"
   ]
  },
  {
   "cell_type": "code",
   "execution_count": 13,
   "id": "ab4d7670",
   "metadata": {},
   "outputs": [],
   "source": [
    "def gen_j(m, i):\n",
    "    random.seed(time.time())\n",
    "    \n",
    "    j = random.randint(0, m-1)\n",
    "\n",
    "    while i == j:\n",
    "        j = random.randint(0, m-1)\n",
    "\n",
    "    return j"
   ]
  },
  {
   "cell_type": "code",
   "execution_count": 20,
   "id": "f143baba",
   "metadata": {},
   "outputs": [],
   "source": [
    "def SMO(C, tol, max_passes, X, Y):\n",
    "    m = len(Y)    \n",
    "    b = 0\n",
    "    lams = np.zeros(m)\n",
    "    lams_old = np.zeros(m)\n",
    "    passes = 0\n",
    "\n",
    "    while(passes < max_passes):\n",
    "        changedLam=0\n",
    "        for i in range(m):\n",
    "            Ei =lin_error(X[i], Y[i], lams, X,Y,b) #calculate_error(X[i], y[i], alphas[i], X, b)\n",
    "\n",
    "            #print(Ei)\n",
    "        \n",
    "            if ((Y[i] * Ei < (-1 * tol) and lams[i] < C) or (Y[i] * Ei > tol and lams[i] > 0)):\n",
    "                j = gen_j(m, i)\n",
    "            \n",
    "                Ej = lin_error(X[j], Y[j], lams, X,Y,b)  #calculate_error(X[j], y[j], alphas[j], X, b)\n",
    "                #print(Ej)\n",
    "                \n",
    "                lams_old[i], lams_old[j] = lams[i], lams[j]\n",
    "                \n",
    "                L = findL(Y[i],Y[j],lams[i],lams[j],C)\n",
    "                H = findH(Y[i],Y[j],lams[i],lams[j],C) \n",
    "                \n",
    "                if L == H:\n",
    "                    continue\n",
    "\n",
    "                eta = neta(X[i], X[j])\n",
    "\n",
    "                if eta >= 0:\n",
    "                    continue\n",
    "                    \n",
    "                lam1=compute_lamj(Y[j],lams[j], Ei, Ej, eta)\n",
    "\n",
    "                lams[j] = clip_lamj(lam1, L, H)\n",
    "                \n",
    "\n",
    "                if abs(lams[j] - lams_old[j]) < 1e-3:\n",
    "                    continue\n",
    "                \n",
    "                lams[i] = compute_lami(lams[i], Y[i], Y[j], lams_old[j], lams[j])\n",
    "                \n",
    "                b1,b2=findbs(b, X[i], Y[i], lams[i], lams[j], Ei, Ej, X[j], Y[j], lams_old[i], lams_old[j])\n",
    "            \n",
    "                b = compute_b(b1, b2, lams[i], lams[j], C)\n",
    "        \n",
    "                changedLam += 1 \n",
    "        \n",
    "        if changedLam == 0:\n",
    "            passes += 1\n",
    "        else:\n",
    "            passes = 0\n",
    "\n",
    "    return lams, b\n"
   ]
  },
  {
   "cell_type": "code",
   "execution_count": 21,
   "id": "9178e38f",
   "metadata": {},
   "outputs": [],
   "source": [
    "def predict(lam,b,test_data):\n",
    "    sv= lam>0\n",
    "    sv_lambda= lam[sv]  # Represent lambdas of all support vectors\n",
    "    sv_fea= train_data[sv]     # Represent all support vectors\n",
    "    sv_label = label_train[sv]\n",
    "    y_predict = np.zeros(len(test_data))\n",
    "    for i in range(len(test_data)):\n",
    "        s = 0\n",
    "        for a, sv_y, sv in zip(sv_lambda, sv_label, sv_fea):\n",
    "            s += a * sv_y * np.dot(test_data[i], sv)\n",
    "        y_predict[i] = s\n",
    "    y_predict=np.array(y_predict)+b\n",
    "    \n",
    "\n",
    "    return y_predict"
   ]
  },
  {
   "cell_type": "code",
   "execution_count": 22,
   "id": "fb6d6e5b",
   "metadata": {},
   "outputs": [],
   "source": [
    "df = pd.read_csv('C:/Users/surya/Downloads/2019EE10481/2019EE10481.csv',header = None,prefix='Column') \n",
    "labelsAll= df['Column25'].unique() #unique labels\n",
    "labels=labelsAll[0:2] # labels for Binary Clasification\n",
    "\n",
    "df1=df[(df.Column25==labels[0]) | (df.Column25==labels[1])]"
   ]
  },
  {
   "cell_type": "code",
   "execution_count": 23,
   "id": "32f7db83",
   "metadata": {},
   "outputs": [],
   "source": [
    "df3=df1.Column25\n",
    "\n",
    "label=np.array(df3)\n",
    "for i in range(len(label)):\n",
    "    if(label[i]==2.0):\n",
    "        label[i]=1.0\n",
    "    else:\n",
    "        label[i]=-1.0\n",
    "label_train=label[0:177]\n",
    "label_test=label[177:577]\n"
   ]
  },
  {
   "cell_type": "code",
   "execution_count": 24,
   "id": "066447b2",
   "metadata": {},
   "outputs": [],
   "source": [
    "df1=df1.iloc[:,0:25:1]\n",
    "data = df1.values #To convert data frame into numpy array\n",
    "train_data=data[0:177]\n",
    "test_data=data[177:577]"
   ]
  },
  {
   "cell_type": "code",
   "execution_count": 33,
   "id": "9d95eec0",
   "metadata": {},
   "outputs": [
    {
     "name": "stdout",
     "output_type": "stream",
     "text": [
      "94.25\n"
     ]
    }
   ],
   "source": [
    "lam,b=SMO(1/(2**(-5.63)), 1e-7, 25, train_data, label_train)\n",
    "y_predict=predict(lam,b,test_data)\n",
    "y_predict=np.sign(y_predict)\n",
    "label_test=np.array(label_test)\n",
    "\n",
    "Accuracy_table=np.ravel(label_test==y_predict)\n",
    "count=0\n",
    "for k in range(len(label_test)):\n",
    "    if(Accuracy_table[k]==True):\n",
    "        count+=1\n",
    "print(count/4)"
   ]
  },
  {
   "cell_type": "code",
   "execution_count": null,
   "id": "0f7d1e8f",
   "metadata": {},
   "outputs": [],
   "source": []
  }
 ],
 "metadata": {
  "kernelspec": {
   "display_name": "Python 3 (ipykernel)",
   "language": "python",
   "name": "python3"
  },
  "language_info": {
   "codemirror_mode": {
    "name": "ipython",
    "version": 3
   },
   "file_extension": ".py",
   "mimetype": "text/x-python",
   "name": "python",
   "nbconvert_exporter": "python",
   "pygments_lexer": "ipython3",
   "version": "3.9.7"
  }
 },
 "nbformat": 4,
 "nbformat_minor": 5
}
