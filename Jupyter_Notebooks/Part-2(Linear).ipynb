{
 "cells": [
  {
   "cell_type": "markdown",
   "id": "fb3facdb",
   "metadata": {},
   "source": [
    "# Linear Multi-class Classification using SVM using all feature vectors"
   ]
  },
  {
   "cell_type": "code",
   "execution_count": 2,
   "id": "31dfde09",
   "metadata": {},
   "outputs": [],
   "source": [
    "from libsvm.svmutil import *\n",
    "import numpy as np\n",
    "import pandas as pd\n",
    "import math\n",
    "import matplotlib\n",
    "import matplotlib.pyplot as plt\n",
    "import cvxopt\n",
    "from cvxopt import matrix,solvers"
   ]
  },
  {
   "cell_type": "code",
   "execution_count": 3,
   "id": "370ecda0",
   "metadata": {},
   "outputs": [],
   "source": [
    "df = pd.read_csv('C:/Users/surya/Downloads/2019EE10481/train_set.csv',header = None,prefix='Column') "
   ]
  },
  {
   "cell_type": "code",
   "execution_count": 4,
   "id": "83819cb4",
   "metadata": {},
   "outputs": [],
   "source": [
    "df1=df.Column25\n",
    "label=np.array(df1)\n",
    "label_train=label[0:6000]\n",
    "label_test=label[6000:8000]"
   ]
  },
  {
   "cell_type": "code",
   "execution_count": 5,
   "id": "5bd68b40",
   "metadata": {},
   "outputs": [],
   "source": [
    "df=df.iloc[:,0:25:1]\n",
    "data = df.values #To convert data frame into numpy array\n",
    "train_data=data[0:6000]\n",
    "test_data=data[6000:8000]"
   ]
  },
  {
   "cell_type": "code",
   "execution_count": 6,
   "id": "c01c7e87",
   "metadata": {},
   "outputs": [
    {
     "name": "stdout",
     "output_type": "stream",
     "text": [
      "Accuracy = 88.45% (5307/6000) (classification)\n",
      "Accuracy = 89.8667% (5392/6000) (classification)\n",
      "Accuracy = 90.6% (5436/6000) (classification)\n",
      "Accuracy = 91.0333% (5462/6000) (classification)\n",
      "Accuracy = 91.6% (5496/6000) (classification)\n",
      "Accuracy = 92.1833% (5531/6000) (classification)\n",
      "Accuracy = 92.7333% (5564/6000) (classification)\n",
      "Accuracy = 92.9167% (5575/6000) (classification)\n",
      "Accuracy = 92.95% (5577/6000) (classification)\n",
      "Accuracy = 93.1667% (5590/6000) (classification)\n",
      "Accuracy = 93.4333% (5606/6000) (classification)\n",
      "Accuracy = 93.75% (5625/6000) (classification)\n",
      "Accuracy = 93.85% (5631/6000) (classification)\n",
      "Accuracy = 94.0333% (5642/6000) (classification)\n",
      "Accuracy = 94.1333% (5648/6000) (classification)\n",
      "Accuracy = 94.15% (5649/6000) (classification)\n",
      "Accuracy = 94.25% (5655/6000) (classification)\n",
      "Accuracy = 94.25% (5655/6000) (classification)\n",
      "Accuracy = 94.2667% (5656/6000) (classification)\n",
      "Accuracy = 94.2667% (5656/6000) (classification)\n",
      "Accuracy = 87.45% (1749/2000) (classification)\n",
      "Accuracy = 89.4% (1788/2000) (classification)\n",
      "Accuracy = 90.2% (1804/2000) (classification)\n",
      "Accuracy = 90.65% (1813/2000) (classification)\n",
      "Accuracy = 91.15% (1823/2000) (classification)\n",
      "Accuracy = 91.6% (1832/2000) (classification)\n",
      "Accuracy = 91.9% (1838/2000) (classification)\n",
      "Accuracy = 91.85% (1837/2000) (classification)\n",
      "Accuracy = 92.05% (1841/2000) (classification)\n",
      "Accuracy = 91.9% (1838/2000) (classification)\n",
      "Accuracy = 91.55% (1831/2000) (classification)\n",
      "Accuracy = 91.15% (1823/2000) (classification)\n",
      "Accuracy = 90.95% (1819/2000) (classification)\n",
      "Accuracy = 91% (1820/2000) (classification)\n",
      "Accuracy = 91.05% (1821/2000) (classification)\n",
      "Accuracy = 90.8% (1816/2000) (classification)\n",
      "Accuracy = 90.85% (1817/2000) (classification)\n",
      "Accuracy = 90.55% (1811/2000) (classification)\n",
      "Accuracy = 90.65% (1813/2000) (classification)\n",
      "Accuracy = 90.55% (1811/2000) (classification)\n"
     ]
    },
    {
     "data": {
      "image/png": "[encoded data removed]",
      "text/plain": [
       "<Figure size 432x288 with 1 Axes>"
      ]
     },
     "metadata": {
      "needs_background": "light"
     },
     "output_type": "display_data"
    },
    {
     "name": "stdout",
     "output_type": "stream",
     "text": [
      "Value of coarse log2(c), for maximum accuracy: -2\n"
     ]
    }
   ],
   "source": [
    "prob = svm_problem(label_train, train_data)\n",
    "c0=[]\n",
    "Accuracy0=[]\n",
    "max0=0\n",
    "c=[]\n",
    "Accuracy=[]\n",
    "max=0\n",
    "j=0\n",
    "j0=0\n",
    "for i in range(-10,10):\n",
    "    c0.append(i)\n",
    "    param = svm_parameter('-t 0 -c {} -b 0'.format(2**i))\n",
    "    m = svm_train(prob, param)\n",
    "    p_label, p_acc, p_val = svm_predict(label_train, train_data, m) \n",
    "    Accuracy0.append(p_acc[0])\n",
    "\n",
    "    if(max0<p_acc[0]):\n",
    "        max0=p_acc[0]\n",
    "        j0=i\n",
    "for i in range(-10,10):\n",
    "    c.append(i)\n",
    "    param = svm_parameter('-t 0 -c {} -b 0'.format(2**i))\n",
    "    m = svm_train(prob, param)\n",
    "    p_label, p_acc, p_val = svm_predict(label_test, test_data, m) \n",
    "    Accuracy.append(p_acc[0])\n",
    "\n",
    "    if(max<p_acc[0]):\n",
    "        max=p_acc[0]\n",
    "        j=i\n",
    "\n",
    "plt.plot(c0,Accuracy0)\n",
    "plt.plot(c,Accuracy)\n",
    "plt.show()\n",
    "print('Value of coarse log2(c), for maximum accuracy: {}'.format(j))"
   ]
  },
  {
   "cell_type": "code",
   "execution_count": 7,
   "id": "e485d198",
   "metadata": {},
   "outputs": [
    {
     "name": "stdout",
     "output_type": "stream",
     "text": [
      "Accuracy = 91.85% (1837/2000) (classification)\n",
      "Accuracy = 92% (1840/2000) (classification)\n",
      "Accuracy = 92% (1840/2000) (classification)\n",
      "Accuracy = 92% (1840/2000) (classification)\n",
      "Accuracy = 91.8% (1836/2000) (classification)\n",
      "Accuracy = 92.05% (1841/2000) (classification)\n",
      "Accuracy = 92.05% (1841/2000) (classification)\n",
      "Accuracy = 92% (1840/2000) (classification)\n",
      "Accuracy = 91.9% (1838/2000) (classification)\n",
      "Accuracy = 92% (1840/2000) (classification)\n",
      "Accuracy = 92.05% (1841/2000) (classification)\n",
      "Accuracy = 92.05% (1841/2000) (classification)\n",
      "Accuracy = 92.15% (1843/2000) (classification)\n",
      "Accuracy = 92.05% (1841/2000) (classification)\n",
      "Accuracy = 91.9% (1838/2000) (classification)\n",
      "Accuracy = 91.9% (1838/2000) (classification)\n",
      "Accuracy = 91.95% (1839/2000) (classification)\n",
      "Accuracy = 91.8% (1836/2000) (classification)\n",
      "Accuracy = 91.85% (1837/2000) (classification)\n",
      "Accuracy = 91.95% (1839/2000) (classification)\n"
     ]
    },
    {
     "data": {
      "image/png": "[encoded data removed]",
      "text/plain": [
       "<Figure size 432x288 with 1 Axes>"
      ]
     },
     "metadata": {
      "needs_background": "light"
     },
     "output_type": "display_data"
    },
    {
     "name": "stdout",
     "output_type": "stream",
     "text": [
      "Value of coarse log2(c), for maximum accuracy: -1.799999999999999\n",
      "Percentage of Samples for which output is predicted correctly: 92.15\n"
     ]
    }
   ],
   "source": [
    "prob = svm_problem(label_train, train_data)\n",
    "c=[]\n",
    "Accuracy=[]\n",
    "max=0\n",
    "j=0\n",
    "i=-3\n",
    "while(i<-1):\n",
    "    c.append(i)\n",
    "    param = svm_parameter('-t 0 -c {} -b 0'.format(2**i))\n",
    "    m = svm_train(prob, param)\n",
    "    p_label, p_acc, p_val = svm_predict(label_test, test_data, m) \n",
    "    Accuracy.append(p_acc[0])\n",
    "\n",
    "    if(max<p_acc[0]):\n",
    "        max=p_acc[0]\n",
    "        j=i\n",
    "\n",
    "    i+=0.1\n",
    "plt.plot(c,Accuracy)\n",
    "plt.show()\n",
    "print('Value of coarse log2(c), for maximum accuracy: {}'.format(j))\n",
    "print('Percentage of Samples for which output is predicted correctly: {}'.format(max))"
   ]
  },
  {
   "cell_type": "code",
   "execution_count": 39,
   "id": "5dc82bbd",
   "metadata": {},
   "outputs": [],
   "source": [
    "df1 = pd.read_csv('C:/Users/surya/Downloads/409-Ass2/test_set.csv',header = None,prefix='Column') "
   ]
  },
  {
   "cell_type": "code",
   "execution_count": 40,
   "id": "4ea21f22",
   "metadata": {},
   "outputs": [],
   "source": [
    "label_dummy=np.ones(2000)"
   ]
  },
  {
   "cell_type": "code",
   "execution_count": 41,
   "id": "fc2c1a94",
   "metadata": {},
   "outputs": [],
   "source": [
    "df=df1.iloc[:,0:25:1]\n",
    "data1 = df.values #To convert data frame into numpy array"
   ]
  },
  {
   "cell_type": "code",
   "execution_count": 42,
   "id": "e4acd828",
   "metadata": {},
   "outputs": [
    {
     "name": "stdout",
     "output_type": "stream",
     "text": [
      "Accuracy = 10.6% (212/2000) (classification)\n"
     ]
    }
   ],
   "source": [
    "prob = svm_problem(label_train, train_data)\n",
    "param = svm_parameter('-t 0 -c {} -b 0'.format(2**(-1.8)))\n",
    "m = svm_train(prob, param)\n",
    "p_label, p_acc, p_val = svm_predict(label_dummy, data1, m) "
   ]
  },
  {
   "cell_type": "code",
   "execution_count": 43,
   "id": "30ca8858",
   "metadata": {},
   "outputs": [
    {
     "name": "stdout",
     "output_type": "stream",
     "text": [
      "[1. 1. 1. ... 0. 2. 3.]\n"
     ]
    }
   ],
   "source": [
    "p_label=np.array(p_label)\n",
    "print(p_label)"
   ]
  },
  {
   "cell_type": "code",
   "execution_count": 44,
   "id": "333f6978",
   "metadata": {},
   "outputs": [
    {
     "name": "stdout",
     "output_type": "stream",
     "text": [
      "['1' '2' '3' ... '1998' '1999' '2000']\n"
     ]
    }
   ],
   "source": [
    "arr=np.arange(2001)[1:2001]\n",
    "\n",
    "arr = arr.astype('str')\n",
    "print(arr)"
   ]
  },
  {
   "cell_type": "code",
   "execution_count": 45,
   "id": "968b1e5e",
   "metadata": {},
   "outputs": [
    {
     "name": "stdout",
     "output_type": "stream",
     "text": [
      "        Id  Class\n",
      "0        1    1.0\n",
      "1        2    1.0\n",
      "2        3    1.0\n",
      "3        4    6.0\n",
      "4        5    7.0\n",
      "...    ...    ...\n",
      "1995  1996    8.0\n",
      "1996  1997    8.0\n",
      "1997  1998    0.0\n",
      "1998  1999    2.0\n",
      "1999  2000    3.0\n",
      "\n",
      "[2000 rows x 2 columns]\n"
     ]
    }
   ],
   "source": [
    "L={\"Id\":arr,\"Class\":p_label}\n",
    "df_out=pd.DataFrame(L)\n",
    "print(df_out)"
   ]
  },
  {
   "cell_type": "code",
   "execution_count": 59,
   "id": "9cc2617f",
   "metadata": {},
   "outputs": [],
   "source": [
    "with open('foo.csv','w+') as f:\n",
    "    f.write('Id,Class\\n')\n",
    "    for i in range(p_label.shape[0]):\n",
    "        if (i+1<1000):\n",
    "            f.write('{},{:d}\\n'.format(str(i+1),int(p_label[i])))\n",
    "        else:\n",
    "            f.write('\\\"{:01d},{:03d}\\\",{:d}\\n'.format((i+1)//1000,(i+1)%1000,int(p_label[i])))\n",
    "            #f.write('\\\"{:01d},{:03d}\\\",{:d}\\n'.format((i+1)//1000, (i+1)%1000, int(p_label[I])))"
   ]
  },
  {
   "cell_type": "code",
   "execution_count": null,
   "id": "fa71b5ed",
   "metadata": {},
   "outputs": [],
   "source": []
  }
 ],
 "metadata": {
  "kernelspec": {
   "display_name": "Python 3 (ipykernel)",
   "language": "python",
   "name": "python3"
  },
  "language_info": {
   "codemirror_mode": {
    "name": "ipython",
    "version": 3
   },
   "file_extension": ".py",
   "mimetype": "text/x-python",
   "name": "python",
   "nbconvert_exporter": "python",
   "pygments_lexer": "ipython3",
   "version": "3.9.7"
  }
 },
 "nbformat": 4,
 "nbformat_minor": 5
}
