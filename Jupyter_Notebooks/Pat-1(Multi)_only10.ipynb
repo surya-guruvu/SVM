{
 "cells": [
  {
   "cell_type": "code",
   "execution_count": 1,
   "id": "dd374107",
   "metadata": {},
   "outputs": [],
   "source": [
    "from libsvm.svmutil import *\n",
    "import numpy as np\n",
    "import pandas as pd\n",
    "import math\n",
    "import matplotlib\n",
    "import matplotlib.pyplot as plt\n",
    "import cvxopt\n",
    "from cvxopt import matrix,solvers"
   ]
  },
  {
   "cell_type": "code",
   "execution_count": 2,
   "id": "6abf3c3b",
   "metadata": {},
   "outputs": [],
   "source": [
    "df = pd.read_csv('C:/Users/surya/Downloads/2019EE10481/2019EE10481.csv',header = None,prefix='Column') "
   ]
  },
  {
   "cell_type": "code",
   "execution_count": 3,
   "id": "69c1fc47",
   "metadata": {},
   "outputs": [],
   "source": [
    "df1=df.Column25\n",
    "label=np.array(df1)\n",
    "label_train=label[0:2000]\n",
    "label_test=label[2000:3000]\n"
   ]
  },
  {
   "cell_type": "code",
   "execution_count": 5,
   "id": "85e6a192",
   "metadata": {},
   "outputs": [],
   "source": [
    "df=df.iloc[:,0:10:1]\n",
    "data = df.values #To convert data frame into numpy array\n",
    "train_data=data[0:2000]\n",
    "test_data=data[2000:3000]"
   ]
  },
  {
   "cell_type": "code",
   "execution_count": 6,
   "id": "902f9df1",
   "metadata": {},
   "outputs": [
    {
     "name": "stdout",
     "output_type": "stream",
     "text": [
      "Accuracy = 10.75% (215/2000) (classification)\n",
      "Accuracy = 10.75% (215/2000) (classification)\n",
      "Accuracy = 10.75% (215/2000) (classification)\n",
      "Accuracy = 10.75% (215/2000) (classification)\n",
      "Accuracy = 10.75% (215/2000) (classification)\n",
      "Accuracy = 10.75% (215/2000) (classification)\n",
      "Accuracy = 10.75% (215/2000) (classification)\n",
      "Accuracy = 12.15% (243/2000) (classification)\n",
      "Accuracy = 48.9% (978/2000) (classification)\n",
      "Accuracy = 66.1% (1322/2000) (classification)\n",
      "Accuracy = 73.5% (1470/2000) (classification)\n",
      "Accuracy = 76.85% (1537/2000) (classification)\n",
      "Accuracy = 78.75% (1575/2000) (classification)\n",
      "Accuracy = 80.05% (1601/2000) (classification)\n",
      "Accuracy = 81.1% (1622/2000) (classification)\n",
      "Accuracy = 82% (1640/2000) (classification)\n",
      "Accuracy = 82.7% (1654/2000) (classification)\n",
      "Accuracy = 82.55% (1651/2000) (classification)\n",
      "Accuracy = 82.85% (1657/2000) (classification)\n",
      "Accuracy = 83.2% (1664/2000) (classification)\n",
      "Accuracy = 83.05% (1661/2000) (classification)\n",
      "Accuracy = 83.3% (1666/2000) (classification)\n",
      "Accuracy = 83.45% (1669/2000) (classification)\n",
      "Accuracy = 83.6% (1672/2000) (classification)\n",
      "Accuracy = 83.7% (1674/2000) (classification)\n",
      "Accuracy = 83.85% (1677/2000) (classification)\n",
      "Accuracy = 83.9% (1678/2000) (classification)\n",
      "Accuracy = 83.85% (1677/2000) (classification)\n",
      "Accuracy = 83.8% (1676/2000) (classification)\n",
      "Accuracy = 83.8% (1676/2000) (classification)\n",
      "Accuracy = 83.85% (1677/2000) (classification)\n",
      "Accuracy = 83.75% (1675/2000) (classification)\n",
      "Accuracy = 83.8% (1676/2000) (classification)\n",
      "Accuracy = 84% (1680/2000) (classification)\n",
      "Accuracy = 83.35% (1667/2000) (classification)\n",
      "Accuracy = 10% (100/1000) (classification)\n",
      "Accuracy = 10% (100/1000) (classification)\n",
      "Accuracy = 10% (100/1000) (classification)\n",
      "Accuracy = 10% (100/1000) (classification)\n",
      "Accuracy = 10% (100/1000) (classification)\n",
      "Accuracy = 10% (100/1000) (classification)\n",
      "Accuracy = 10% (100/1000) (classification)\n",
      "Accuracy = 11.9% (119/1000) (classification)\n",
      "Accuracy = 49.3% (493/1000) (classification)\n",
      "Accuracy = 67.3% (673/1000) (classification)\n",
      "Accuracy = 76.9% (769/1000) (classification)\n",
      "Accuracy = 79.5% (795/1000) (classification)\n",
      "Accuracy = 80.1% (801/1000) (classification)\n",
      "Accuracy = 82.3% (823/1000) (classification)\n",
      "Accuracy = 82.6% (826/1000) (classification)\n",
      "Accuracy = 83% (830/1000) (classification)\n",
      "Accuracy = 82.9% (829/1000) (classification)\n",
      "Accuracy = 82.9% (829/1000) (classification)\n",
      "Accuracy = 83% (830/1000) (classification)\n",
      "Accuracy = 82.9% (829/1000) (classification)\n",
      "Accuracy = 82.7% (827/1000) (classification)\n",
      "Accuracy = 82.5% (825/1000) (classification)\n",
      "Accuracy = 82.3% (823/1000) (classification)\n",
      "Accuracy = 82.3% (823/1000) (classification)\n",
      "Accuracy = 82.5% (825/1000) (classification)\n",
      "Accuracy = 82.7% (827/1000) (classification)\n",
      "Accuracy = 82.5% (825/1000) (classification)\n",
      "Accuracy = 82.7% (827/1000) (classification)\n",
      "Accuracy = 82.7% (827/1000) (classification)\n",
      "Accuracy = 82.7% (827/1000) (classification)\n",
      "Accuracy = 82.6% (826/1000) (classification)\n",
      "Accuracy = 82.3% (823/1000) (classification)\n",
      "Accuracy = 82.4% (824/1000) (classification)\n",
      "Accuracy = 82.2% (822/1000) (classification)\n",
      "Accuracy = 82.3% (823/1000) (classification)\n"
     ]
    },
    {
     "data": {
      "image/png": "[encoded data removed]",
      "text/plain": [
       "<Figure size 432x288 with 1 Axes>"
      ]
     },
     "metadata": {
      "needs_background": "light"
     },
     "output_type": "display_data"
    },
    {
     "name": "stdout",
     "output_type": "stream",
     "text": [
      "Value of coarse log2(c), for maximum accuracy: -5\n"
     ]
    }
   ],
   "source": [
    "prob = svm_problem(label_train, train_data)\n",
    "c0=[]\n",
    "Accuracy0=[]\n",
    "max0=0\n",
    "c=[]\n",
    "Accuracy=[]\n",
    "max=0\n",
    "j=0\n",
    "j0=0\n",
    "for i in range(-20,15):\n",
    "    c0.append(i)\n",
    "    param = svm_parameter('-t 0 -c {} -b 0'.format(2**i))\n",
    "    m = svm_train(prob, param)\n",
    "    p_label, p_acc, p_val = svm_predict(label_train, train_data, m) \n",
    "    Accuracy0.append(p_acc[0])\n",
    "\n",
    "    if(max0<p_acc[0]):\n",
    "        max0=p_acc[0]\n",
    "        j0=i\n",
    "for i in range(-20,15):\n",
    "    c.append(i)\n",
    "    param = svm_parameter('-t 0 -c {} -b 0'.format(2**i))\n",
    "    m = svm_train(prob, param)\n",
    "    p_label, p_acc, p_val = svm_predict(label_test, test_data, m) \n",
    "    Accuracy.append(p_acc[0])\n",
    "\n",
    "    if(max<p_acc[0]):\n",
    "        max=p_acc[0]\n",
    "        j=i\n",
    "\n",
    "plt.plot(c0,Accuracy0)\n",
    "plt.plot(c,Accuracy)\n",
    "plt.show()\n",
    "print('Value of coarse log2(c), for maximum accuracy: {}'.format(j))"
   ]
  },
  {
   "cell_type": "code",
   "execution_count": 7,
   "id": "18550d3c",
   "metadata": {},
   "outputs": [
    {
     "name": "stdout",
     "output_type": "stream",
     "text": [
      "Accuracy = 82.6% (826/1000) (classification)\n",
      "Accuracy = 82.6% (826/1000) (classification)\n",
      "Accuracy = 82.4% (824/1000) (classification)\n",
      "Accuracy = 82.5% (825/1000) (classification)\n",
      "Accuracy = 82.5% (825/1000) (classification)\n",
      "Accuracy = 82.4% (824/1000) (classification)\n",
      "Accuracy = 82.5% (825/1000) (classification)\n",
      "Accuracy = 82.8% (828/1000) (classification)\n",
      "Accuracy = 82.6% (826/1000) (classification)\n",
      "Accuracy = 82.6% (826/1000) (classification)\n",
      "Accuracy = 83% (830/1000) (classification)\n",
      "Accuracy = 82.7% (827/1000) (classification)\n",
      "Accuracy = 82.6% (826/1000) (classification)\n",
      "Accuracy = 82.7% (827/1000) (classification)\n",
      "Accuracy = 82.5% (825/1000) (classification)\n",
      "Accuracy = 82.6% (826/1000) (classification)\n",
      "Accuracy = 82.7% (827/1000) (classification)\n",
      "Accuracy = 82.4% (824/1000) (classification)\n",
      "Accuracy = 82.7% (827/1000) (classification)\n",
      "Accuracy = 82.6% (826/1000) (classification)\n",
      "Accuracy = 82.9% (829/1000) (classification)\n"
     ]
    },
    {
     "data": {
      "image/png": "[encoded data removed]",
      "text/plain": [
       "<Figure size 432x288 with 1 Axes>"
      ]
     },
     "metadata": {
      "needs_background": "light"
     },
     "output_type": "display_data"
    },
    {
     "name": "stdout",
     "output_type": "stream",
     "text": [
      "Value of fine log2(c), for maximum accuracy: -5.0000000000000036\n",
      "Percentage of Samples for which output is predicted correctly: 83.0\n"
     ]
    }
   ],
   "source": [
    "prob = svm_problem(label_train, train_data)\n",
    "c=[]\n",
    "Accuracy=[]\n",
    "max=0\n",
    "j=0\n",
    "i=-6\n",
    "while(i<-4):\n",
    "    c.append(i)\n",
    "    param = svm_parameter('-t 0 -c {} -b 0'.format(2**i))\n",
    "    m = svm_train(prob, param)\n",
    "    p_label, p_acc, p_val = svm_predict(label_test, test_data, m) \n",
    "    Accuracy.append(p_acc[0])\n",
    "\n",
    "    if(max<p_acc[0]):\n",
    "        max=p_acc[0]\n",
    "        j=i\n",
    "\n",
    "    i+=0.1\n",
    "plt.plot(c,Accuracy)\n",
    "plt.show()\n",
    "print('Value of fine log2(c), for maximum accuracy: {}'.format(j))\n",
    "print('Percentage of Samples for which output is predicted correctly: {}'.format(max))"
   ]
  },
  {
   "cell_type": "code",
   "execution_count": null,
   "id": "ae04feeb",
   "metadata": {},
   "outputs": [],
   "source": []
  }
 ],
 "metadata": {
  "kernelspec": {
   "display_name": "Python 3 (ipykernel)",
   "language": "python",
   "name": "python3"
  },
  "language_info": {
   "codemirror_mode": {
    "name": "ipython",
    "version": 3
   },
   "file_extension": ".py",
   "mimetype": "text/x-python",
   "name": "python",
   "nbconvert_exporter": "python",
   "pygments_lexer": "ipython3",
   "version": "3.9.7"
  }
 },
 "nbformat": 4,
 "nbformat_minor": 5
}
